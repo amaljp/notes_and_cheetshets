{
 "cells": [
  {
   "cell_type": "code",
   "execution_count": 1,
   "id": "9e497977",
   "metadata": {},
   "outputs": [],
   "source": [
    "run imports.py"
   ]
  },
  {
   "cell_type": "markdown",
   "id": "521803f7",
   "metadata": {},
   "source": [
    "### EDA"
   ]
  },
  {
   "cell_type": "code",
   "execution_count": 2,
   "id": "330d2267",
   "metadata": {},
   "outputs": [
    {
     "name": "stderr",
     "output_type": "stream",
     "text": [
      "/tmp/ipykernel_4770/3517446167.py:1: DtypeWarning: Columns (70,71,72,73,74,76,79) have mixed types. Specify dtype option on import or set low_memory=False.\n",
      "  fueleco = pd.read_csv(\"data/vehicles.csv.zip\")\n"
     ]
    },
    {
     "data": {
      "text/html": [
       "<div>\n",
       "<style scoped>\n",
       "    .dataframe tbody tr th:only-of-type {\n",
       "        vertical-align: middle;\n",
       "    }\n",
       "\n",
       "    .dataframe tbody tr th {\n",
       "        vertical-align: top;\n",
       "    }\n",
       "\n",
       "    .dataframe thead th {\n",
       "        text-align: right;\n",
       "    }\n",
       "</style>\n",
       "<table border=\"1\" class=\"dataframe\">\n",
       "  <thead>\n",
       "    <tr style=\"text-align: right;\">\n",
       "      <th></th>\n",
       "      <th>barrels08</th>\n",
       "      <th>barrelsA08</th>\n",
       "      <th>charge120</th>\n",
       "      <th>charge240</th>\n",
       "      <th>city08</th>\n",
       "      <th>city08U</th>\n",
       "      <th>cityA08</th>\n",
       "      <th>cityA08U</th>\n",
       "      <th>cityCD</th>\n",
       "      <th>cityE</th>\n",
       "      <th>...</th>\n",
       "      <th>mfrCode</th>\n",
       "      <th>c240Dscr</th>\n",
       "      <th>charge240b</th>\n",
       "      <th>c240bDscr</th>\n",
       "      <th>createdOn</th>\n",
       "      <th>modifiedOn</th>\n",
       "      <th>startStop</th>\n",
       "      <th>phevCity</th>\n",
       "      <th>phevHwy</th>\n",
       "      <th>phevComb</th>\n",
       "    </tr>\n",
       "  </thead>\n",
       "  <tbody>\n",
       "    <tr>\n",
       "      <th>0</th>\n",
       "      <td>15.695714</td>\n",
       "      <td>0.0</td>\n",
       "      <td>0.0</td>\n",
       "      <td>0.0</td>\n",
       "      <td>19</td>\n",
       "      <td>0.0</td>\n",
       "      <td>0</td>\n",
       "      <td>0.0</td>\n",
       "      <td>0.0</td>\n",
       "      <td>0.0</td>\n",
       "      <td>...</td>\n",
       "      <td>NaN</td>\n",
       "      <td>NaN</td>\n",
       "      <td>0.0</td>\n",
       "      <td>NaN</td>\n",
       "      <td>Tue Jan 01 00:00:00 EST 2013</td>\n",
       "      <td>Tue Jan 01 00:00:00 EST 2013</td>\n",
       "      <td>NaN</td>\n",
       "      <td>0</td>\n",
       "      <td>0</td>\n",
       "      <td>0</td>\n",
       "    </tr>\n",
       "    <tr>\n",
       "      <th>1</th>\n",
       "      <td>29.964545</td>\n",
       "      <td>0.0</td>\n",
       "      <td>0.0</td>\n",
       "      <td>0.0</td>\n",
       "      <td>9</td>\n",
       "      <td>0.0</td>\n",
       "      <td>0</td>\n",
       "      <td>0.0</td>\n",
       "      <td>0.0</td>\n",
       "      <td>0.0</td>\n",
       "      <td>...</td>\n",
       "      <td>NaN</td>\n",
       "      <td>NaN</td>\n",
       "      <td>0.0</td>\n",
       "      <td>NaN</td>\n",
       "      <td>Tue Jan 01 00:00:00 EST 2013</td>\n",
       "      <td>Tue Jan 01 00:00:00 EST 2013</td>\n",
       "      <td>NaN</td>\n",
       "      <td>0</td>\n",
       "      <td>0</td>\n",
       "      <td>0</td>\n",
       "    </tr>\n",
       "  </tbody>\n",
       "</table>\n",
       "<p>2 rows × 83 columns</p>\n",
       "</div>"
      ],
      "text/plain": [
       "   barrels08  barrelsA08  charge120  charge240  city08  city08U  cityA08  \\\n",
       "0  15.695714         0.0        0.0        0.0      19      0.0        0   \n",
       "1  29.964545         0.0        0.0        0.0       9      0.0        0   \n",
       "\n",
       "   cityA08U  cityCD  cityE  ...  mfrCode  c240Dscr  charge240b  c240bDscr  \\\n",
       "0       0.0     0.0    0.0  ...      NaN       NaN         0.0        NaN   \n",
       "1       0.0     0.0    0.0  ...      NaN       NaN         0.0        NaN   \n",
       "\n",
       "                      createdOn                    modifiedOn  startStop  \\\n",
       "0  Tue Jan 01 00:00:00 EST 2013  Tue Jan 01 00:00:00 EST 2013        NaN   \n",
       "1  Tue Jan 01 00:00:00 EST 2013  Tue Jan 01 00:00:00 EST 2013        NaN   \n",
       "\n",
       "   phevCity  phevHwy  phevComb  \n",
       "0         0        0         0  \n",
       "1         0        0         0  \n",
       "\n",
       "[2 rows x 83 columns]"
      ]
     },
     "execution_count": 2,
     "metadata": {},
     "output_type": "execute_result"
    }
   ],
   "source": [
    "fueleco = pd.read_csv(\"data/vehicles.csv.zip\")\n",
    "fueleco.head(2)"
   ]
  },
  {
   "cell_type": "code",
   "execution_count": 3,
   "id": "52fb8e64",
   "metadata": {},
   "outputs": [
    {
     "name": "stdout",
     "output_type": "stream",
     "text": [
      "barrels08     float64\n",
      "barrelsA08    float64\n",
      "charge120     float64\n",
      "charge240     float64\n",
      "city08          int64\n",
      "               ...   \n",
      "modifiedOn     object\n",
      "startStop      object\n",
      "phevCity        int64\n",
      "phevHwy         int64\n",
      "phevComb        int64\n",
      "Length: 83, dtype: object\n",
      "float64    32\n",
      "int64      27\n",
      "object     23\n",
      "bool        1\n",
      "dtype: int64\n"
     ]
    }
   ],
   "source": [
    "print(fueleco.dtypes); print(fueleco.dtypes.value_counts())"
   ]
  },
  {
   "cell_type": "code",
   "execution_count": 4,
   "id": "ec9d642c",
   "metadata": {},
   "outputs": [
    {
     "data": {
      "text/html": [
       "<div>\n",
       "<style scoped>\n",
       "    .dataframe tbody tr th:only-of-type {\n",
       "        vertical-align: middle;\n",
       "    }\n",
       "\n",
       "    .dataframe tbody tr th {\n",
       "        vertical-align: top;\n",
       "    }\n",
       "\n",
       "    .dataframe thead th {\n",
       "        text-align: right;\n",
       "    }\n",
       "</style>\n",
       "<table border=\"1\" class=\"dataframe\">\n",
       "  <thead>\n",
       "    <tr style=\"text-align: right;\">\n",
       "      <th></th>\n",
       "      <th>count</th>\n",
       "      <th>mean</th>\n",
       "      <th>std</th>\n",
       "      <th>min</th>\n",
       "      <th>25%</th>\n",
       "      <th>50%</th>\n",
       "      <th>75%</th>\n",
       "      <th>max</th>\n",
       "    </tr>\n",
       "  </thead>\n",
       "  <tbody>\n",
       "    <tr>\n",
       "      <th>barrels08</th>\n",
       "      <td>39101.0</td>\n",
       "      <td>17.442712</td>\n",
       "      <td>4.580230</td>\n",
       "      <td>0.06</td>\n",
       "      <td>14.33087</td>\n",
       "      <td>17.347895</td>\n",
       "      <td>20.115</td>\n",
       "      <td>47.087143</td>\n",
       "    </tr>\n",
       "    <tr>\n",
       "      <th>barrelsA08</th>\n",
       "      <td>39101.0</td>\n",
       "      <td>0.219276</td>\n",
       "      <td>1.143837</td>\n",
       "      <td>0.00</td>\n",
       "      <td>0.00000</td>\n",
       "      <td>0.000000</td>\n",
       "      <td>0.000</td>\n",
       "      <td>18.311667</td>\n",
       "    </tr>\n",
       "    <tr>\n",
       "      <th>charge120</th>\n",
       "      <td>39101.0</td>\n",
       "      <td>0.000000</td>\n",
       "      <td>0.000000</td>\n",
       "      <td>0.00</td>\n",
       "      <td>0.00000</td>\n",
       "      <td>0.000000</td>\n",
       "      <td>0.000</td>\n",
       "      <td>0.000000</td>\n",
       "    </tr>\n",
       "  </tbody>\n",
       "</table>\n",
       "</div>"
      ],
      "text/plain": [
       "              count       mean       std   min       25%        50%     75%  \\\n",
       "barrels08   39101.0  17.442712  4.580230  0.06  14.33087  17.347895  20.115   \n",
       "barrelsA08  39101.0   0.219276  1.143837  0.00   0.00000   0.000000   0.000   \n",
       "charge120   39101.0   0.000000  0.000000  0.00   0.00000   0.000000   0.000   \n",
       "\n",
       "                  max  \n",
       "barrels08   47.087143  \n",
       "barrelsA08  18.311667  \n",
       "charge120    0.000000  "
      ]
     },
     "execution_count": 4,
     "metadata": {},
     "output_type": "execute_result"
    }
   ],
   "source": [
    "fueleco.describe().T.head(3)"
   ]
  },
  {
   "cell_type": "code",
   "execution_count": 5,
   "id": "12cbe6b6",
   "metadata": {},
   "outputs": [
    {
     "data": {
      "text/html": [
       "<div>\n",
       "<style scoped>\n",
       "    .dataframe tbody tr th:only-of-type {\n",
       "        vertical-align: middle;\n",
       "    }\n",
       "\n",
       "    .dataframe tbody tr th {\n",
       "        vertical-align: top;\n",
       "    }\n",
       "\n",
       "    .dataframe thead th {\n",
       "        text-align: right;\n",
       "    }\n",
       "</style>\n",
       "<table border=\"1\" class=\"dataframe\">\n",
       "  <thead>\n",
       "    <tr style=\"text-align: right;\">\n",
       "      <th></th>\n",
       "      <th>drive</th>\n",
       "      <th>eng_dscr</th>\n",
       "      <th>fuelType</th>\n",
       "      <th>fuelType1</th>\n",
       "      <th>make</th>\n",
       "      <th>model</th>\n",
       "      <th>mpgData</th>\n",
       "      <th>trany</th>\n",
       "      <th>VClass</th>\n",
       "      <th>guzzler</th>\n",
       "      <th>...</th>\n",
       "      <th>atvType</th>\n",
       "      <th>fuelType2</th>\n",
       "      <th>rangeA</th>\n",
       "      <th>evMotor</th>\n",
       "      <th>mfrCode</th>\n",
       "      <th>c240Dscr</th>\n",
       "      <th>c240bDscr</th>\n",
       "      <th>createdOn</th>\n",
       "      <th>modifiedOn</th>\n",
       "      <th>startStop</th>\n",
       "    </tr>\n",
       "  </thead>\n",
       "  <tbody>\n",
       "    <tr>\n",
       "      <th>count</th>\n",
       "      <td>37912</td>\n",
       "      <td>23431</td>\n",
       "      <td>39101</td>\n",
       "      <td>39101</td>\n",
       "      <td>39101</td>\n",
       "      <td>39101</td>\n",
       "      <td>39101</td>\n",
       "      <td>39090</td>\n",
       "      <td>39101</td>\n",
       "      <td>2335</td>\n",
       "      <td>...</td>\n",
       "      <td>3204</td>\n",
       "      <td>1490</td>\n",
       "      <td>1485</td>\n",
       "      <td>644</td>\n",
       "      <td>8289</td>\n",
       "      <td>53</td>\n",
       "      <td>51</td>\n",
       "      <td>39101</td>\n",
       "      <td>39101</td>\n",
       "      <td>7405</td>\n",
       "    </tr>\n",
       "    <tr>\n",
       "      <th>unique</th>\n",
       "      <td>7</td>\n",
       "      <td>545</td>\n",
       "      <td>14</td>\n",
       "      <td>6</td>\n",
       "      <td>134</td>\n",
       "      <td>3816</td>\n",
       "      <td>2</td>\n",
       "      <td>37</td>\n",
       "      <td>34</td>\n",
       "      <td>3</td>\n",
       "      <td>...</td>\n",
       "      <td>8</td>\n",
       "      <td>4</td>\n",
       "      <td>216</td>\n",
       "      <td>125</td>\n",
       "      <td>46</td>\n",
       "      <td>5</td>\n",
       "      <td>4</td>\n",
       "      <td>195</td>\n",
       "      <td>68</td>\n",
       "      <td>2</td>\n",
       "    </tr>\n",
       "    <tr>\n",
       "      <th>top</th>\n",
       "      <td>Front-Wheel Drive</td>\n",
       "      <td>(FFS)</td>\n",
       "      <td>Regular</td>\n",
       "      <td>Regular Gasoline</td>\n",
       "      <td>Chevrolet</td>\n",
       "      <td>F150 Pickup 2WD</td>\n",
       "      <td>N</td>\n",
       "      <td>Automatic 4-spd</td>\n",
       "      <td>Compact Cars</td>\n",
       "      <td>G</td>\n",
       "      <td>...</td>\n",
       "      <td>FFV</td>\n",
       "      <td>E85</td>\n",
       "      <td>290</td>\n",
       "      <td>288V Ni-MH</td>\n",
       "      <td>GMX</td>\n",
       "      <td>standard charger</td>\n",
       "      <td>80 amp dual charger</td>\n",
       "      <td>Tue Jan 01 00:00:00 EST 2013</td>\n",
       "      <td>Tue Jan 01 00:00:00 EST 2013</td>\n",
       "      <td>N</td>\n",
       "    </tr>\n",
       "    <tr>\n",
       "      <th>freq</th>\n",
       "      <td>13653</td>\n",
       "      <td>8827</td>\n",
       "      <td>25620</td>\n",
       "      <td>26931</td>\n",
       "      <td>3900</td>\n",
       "      <td>214</td>\n",
       "      <td>26400</td>\n",
       "      <td>11045</td>\n",
       "      <td>5661</td>\n",
       "      <td>1356</td>\n",
       "      <td>...</td>\n",
       "      <td>1383</td>\n",
       "      <td>1383</td>\n",
       "      <td>74</td>\n",
       "      <td>117</td>\n",
       "      <td>1255</td>\n",
       "      <td>42</td>\n",
       "      <td>42</td>\n",
       "      <td>34199</td>\n",
       "      <td>29438</td>\n",
       "      <td>5176</td>\n",
       "    </tr>\n",
       "  </tbody>\n",
       "</table>\n",
       "<p>4 rows × 23 columns</p>\n",
       "</div>"
      ],
      "text/plain": [
       "                    drive eng_dscr fuelType         fuelType1       make  \\\n",
       "count               37912    23431    39101             39101      39101   \n",
       "unique                  7      545       14                 6        134   \n",
       "top     Front-Wheel Drive    (FFS)  Regular  Regular Gasoline  Chevrolet   \n",
       "freq                13653     8827    25620             26931       3900   \n",
       "\n",
       "                  model mpgData            trany        VClass guzzler  ...  \\\n",
       "count             39101   39101            39090         39101    2335  ...   \n",
       "unique             3816       2               37            34       3  ...   \n",
       "top     F150 Pickup 2WD       N  Automatic 4-spd  Compact Cars       G  ...   \n",
       "freq                214   26400            11045          5661    1356  ...   \n",
       "\n",
       "       atvType fuelType2 rangeA     evMotor mfrCode          c240Dscr  \\\n",
       "count     3204      1490   1485         644    8289                53   \n",
       "unique       8         4    216         125      46                 5   \n",
       "top        FFV       E85    290  288V Ni-MH     GMX  standard charger   \n",
       "freq      1383      1383     74         117    1255                42   \n",
       "\n",
       "                  c240bDscr                     createdOn  \\\n",
       "count                    51                         39101   \n",
       "unique                    4                           195   \n",
       "top     80 amp dual charger  Tue Jan 01 00:00:00 EST 2013   \n",
       "freq                     42                         34199   \n",
       "\n",
       "                          modifiedOn startStop  \n",
       "count                          39101      7405  \n",
       "unique                            68         2  \n",
       "top     Tue Jan 01 00:00:00 EST 2013         N  \n",
       "freq                           29438      5176  \n",
       "\n",
       "[4 rows x 23 columns]"
      ]
     },
     "execution_count": 5,
     "metadata": {},
     "output_type": "execute_result"
    }
   ],
   "source": [
    "fueleco.describe(include=object)"
   ]
  },
  {
   "cell_type": "code",
   "execution_count": 6,
   "id": "b8ab9b90",
   "metadata": {},
   "outputs": [
    {
     "data": {
      "text/plain": [
       "barrels08     float64\n",
       "barrelsA08    float64\n",
       "charge120     float64\n",
       "charge240     float64\n",
       "city08          int64\n",
       "               ...   \n",
       "modifiedOn     object\n",
       "startStop      object\n",
       "phevCity        int64\n",
       "phevHwy         int64\n",
       "phevComb        int64\n",
       "Length: 83, dtype: object"
      ]
     },
     "execution_count": 6,
     "metadata": {},
     "output_type": "execute_result"
    }
   ],
   "source": [
    "fueleco.dtypes"
   ]
  },
  {
   "cell_type": "code",
   "execution_count": 7,
   "id": "d9db7bac",
   "metadata": {},
   "outputs": [
    {
     "data": {
      "text/plain": [
       "float64    32\n",
       "int64      27\n",
       "object     23\n",
       "bool        1\n",
       "dtype: int64"
      ]
     },
     "execution_count": 7,
     "metadata": {},
     "output_type": "execute_result"
    }
   ],
   "source": [
    "fueleco.dtypes.value_counts()"
   ]
  },
  {
   "cell_type": "markdown",
   "id": "ce15d799",
   "metadata": {},
   "source": [
    "save memory"
   ]
  },
  {
   "cell_type": "code",
   "execution_count": 8,
   "id": "f73f6d3d",
   "metadata": {},
   "outputs": [
    {
     "data": {
      "text/plain": [
       "134"
      ]
     },
     "execution_count": 8,
     "metadata": {},
     "output_type": "execute_result"
    }
   ],
   "source": [
    "fueleco.make.nunique()"
   ]
  },
  {
   "cell_type": "code",
   "execution_count": 9,
   "id": "17d40a9a",
   "metadata": {},
   "outputs": [
    {
     "name": "stdout",
     "output_type": "stream",
     "text": [
      "<class 'pandas.core.frame.DataFrame'>\n",
      "RangeIndex: 39101 entries, 0 to 39100\n",
      "Data columns (total 1 columns):\n",
      " #   Column  Non-Null Count  Dtype \n",
      "---  ------  --------------  ----- \n",
      " 0   make    39101 non-null  object\n",
      "dtypes: object(1)\n",
      "memory usage: 2.4 MB\n"
     ]
    }
   ],
   "source": [
    "fueleco[[\"make\"]].info(memory_usage=\"deep\")"
   ]
  },
  {
   "cell_type": "code",
   "execution_count": 10,
   "id": "0afe30cc",
   "metadata": {},
   "outputs": [
    {
     "name": "stdout",
     "output_type": "stream",
     "text": [
      "<class 'pandas.core.frame.DataFrame'>\n",
      "RangeIndex: 39101 entries, 0 to 39100\n",
      "Data columns (total 1 columns):\n",
      " #   Column  Non-Null Count  Dtype   \n",
      "---  ------  --------------  -----   \n",
      " 0   make    39101 non-null  category\n",
      "dtypes: category(1)\n",
      "memory usage: 89.5 KB\n"
     ]
    }
   ],
   "source": [
    "(\n",
    "     fueleco[[\"make\"]]\n",
    "     .assign(make=fueleco.make.astype(\"category\"))\n",
    "     .info(memory_usage=\"deep\")\n",
    ")"
   ]
  },
  {
   "cell_type": "code",
   "execution_count": 11,
   "id": "e0d2032f",
   "metadata": {},
   "outputs": [
    {
     "name": "stdout",
     "output_type": "stream",
     "text": [
      "<class 'pandas.core.frame.DataFrame'>\n",
      "RangeIndex: 39101 entries, 0 to 39100\n",
      "Data columns (total 1 columns):\n",
      " #   Column  Non-Null Count  Dtype \n",
      "---  ------  --------------  ----- \n",
      " 0   model   39101 non-null  object\n",
      "dtypes: object(1)\n",
      "memory usage: 2.5 MB\n"
     ]
    }
   ],
   "source": [
    "fueleco[[\"model\"]].info(memory_usage=\"deep\")\n"
   ]
  },
  {
   "cell_type": "code",
   "execution_count": 12,
   "id": "09ad6d14",
   "metadata": {},
   "outputs": [
    {
     "name": "stdout",
     "output_type": "stream",
     "text": [
      "<class 'pandas.core.frame.DataFrame'>\n",
      "RangeIndex: 39101 entries, 0 to 39100\n",
      "Data columns (total 1 columns):\n",
      " #   Column  Non-Null Count  Dtype   \n",
      "---  ------  --------------  -----   \n",
      " 0   model   39101 non-null  category\n",
      "dtypes: category(1)\n",
      "memory usage: 465.7 KB\n"
     ]
    }
   ],
   "source": [
    "(\n",
    "     fueleco[[\"model\"]]\n",
    "     .assign(model=fueleco.model.astype(\"category\"))\n",
    "     .info(memory_usage=\"deep\")\n",
    ")"
   ]
  },
  {
   "cell_type": "markdown",
   "id": "fe9a5578",
   "metadata": {},
   "source": [
    "#### Categorical data"
   ]
  },
  {
   "cell_type": "code",
   "execution_count": 13,
   "id": "7cb2217d",
   "metadata": {
    "scrolled": true
   },
   "outputs": [
    {
     "data": {
      "text/plain": [
       "Index(['drive', 'eng_dscr', 'fuelType', 'fuelType1', 'make', 'model',\n",
       "       'mpgData', 'trany', 'VClass', 'guzzler', 'trans_dscr', 'tCharger',\n",
       "       'sCharger', 'atvType', 'fuelType2', 'rangeA', 'evMotor', 'mfrCode',\n",
       "       'c240Dscr', 'c240bDscr', 'createdOn', 'modifiedOn', 'startStop'],\n",
       "      dtype='object')"
      ]
     },
     "execution_count": 13,
     "metadata": {},
     "output_type": "execute_result"
    }
   ],
   "source": [
    "fueleco.select_dtypes(object).columns"
   ]
  },
  {
   "cell_type": "code",
   "execution_count": 14,
   "id": "1b62ab25",
   "metadata": {},
   "outputs": [
    {
     "data": {
      "text/plain": [
       "7"
      ]
     },
     "execution_count": 14,
     "metadata": {},
     "output_type": "execute_result"
    }
   ],
   "source": [
    "fueleco.drive.nunique()"
   ]
  },
  {
   "cell_type": "code",
   "execution_count": 15,
   "id": "0b81ac3e",
   "metadata": {},
   "outputs": [
    {
     "data": {
      "text/plain": [
       "4217     4-Wheel or All-Wheel Drive\n",
       "1736     4-Wheel or All-Wheel Drive\n",
       "36029              Rear-Wheel Drive\n",
       "37631             Front-Wheel Drive\n",
       "Name: drive, dtype: object"
      ]
     },
     "execution_count": 15,
     "metadata": {},
     "output_type": "execute_result"
    }
   ],
   "source": [
    "fueleco.drive.sample(4, random_state=42)"
   ]
  },
  {
   "cell_type": "code",
   "execution_count": 16,
   "id": "96c73108",
   "metadata": {},
   "outputs": [
    {
     "name": "stdout",
     "output_type": "stream",
     "text": [
      "1189\n",
      "3.0408429451932175\n"
     ]
    }
   ],
   "source": [
    "print(fueleco.drive.isna().sum());\n",
    "print(fueleco.drive.isna().mean() * 100)\n"
   ]
  },
  {
   "cell_type": "code",
   "execution_count": 17,
   "id": "538045b3",
   "metadata": {},
   "outputs": [
    {
     "data": {
      "text/plain": [
       "Front-Wheel Drive             13653\n",
       "Rear-Wheel Drive              13284\n",
       "4-Wheel or All-Wheel Drive     6648\n",
       "All-Wheel Drive                2401\n",
       "4-Wheel Drive                  1221\n",
       "2-Wheel Drive                   507\n",
       "Part-time 4-Wheel Drive         198\n",
       "Name: drive, dtype: int64"
      ]
     },
     "execution_count": 17,
     "metadata": {},
     "output_type": "execute_result"
    }
   ],
   "source": [
    "fueleco.drive.value_counts() #summarize drive col"
   ]
  },
  {
   "cell_type": "markdown",
   "id": "4496beac",
   "metadata": {},
   "source": [
    " look at the top 6 and collapse the remaining values:"
   ]
  },
  {
   "cell_type": "code",
   "execution_count": 18,
   "id": "9c1429d3",
   "metadata": {},
   "outputs": [],
   "source": [
    "top_n = fueleco.make.value_counts().index[:6]"
   ]
  },
  {
   "cell_type": "code",
   "execution_count": 19,
   "id": "d4c8f5ef",
   "metadata": {},
   "outputs": [],
   "source": [
    "fueleco.make.where?"
   ]
  },
  {
   "cell_type": "code",
   "execution_count": 20,
   "id": "e345693d",
   "metadata": {},
   "outputs": [
    {
     "data": {
      "text/plain": [
       "Other        23211\n",
       "Chevrolet     3900\n",
       "Ford          3208\n",
       "Dodge         2557\n",
       "GMC           2442\n",
       "Toyota        1976\n",
       "BMW           1807\n",
       "Name: make, dtype: int64"
      ]
     },
     "execution_count": 20,
     "metadata": {},
     "output_type": "execute_result"
    }
   ],
   "source": [
    "(\n",
    "     fueleco.assign(\n",
    "         make=fueleco.make.where(\n",
    "             fueleco.make.isin(top_n), \"Other\"\n",
    "         )\n",
    "     ).make.value_counts()\n",
    ")"
   ]
  },
  {
   "cell_type": "markdown",
   "id": "9d34ba22",
   "metadata": {},
   "source": [
    "Use pandas to plot the counts and visualize them. Note!"
   ]
  },
  {
   "cell_type": "code",
   "execution_count": 21,
   "id": "5b9a77a2",
   "metadata": {},
   "outputs": [
    {
     "data": {
      "text/plain": [
       "<AxesSubplot:>"
      ]
     },
     "execution_count": 21,
     "metadata": {},
     "output_type": "execute_result"
    },
    {
     "data": {
      "image/png": "[encoded data removed]",
      "text/plain": [
       "<Figure size 720x576 with 1 Axes>"
      ]
     },
     "metadata": {
      "needs_background": "light"
     },
     "output_type": "display_data"
    }
   ],
   "source": [
    "fig, ax = plt.subplots(figsize=(10, 8))\n",
    "top_n = fueleco.make.value_counts().index[:6]\n",
    "(\n",
    "     fueleco.assign(  \n",
    "         make=fueleco.make.where(\n",
    "             fueleco.make.isin(top_n), \"Other\"\n",
    "         )\n",
    "     )\n",
    "     .make.value_counts()\n",
    "     .plot.bar(ax=ax)\n",
    ")"
   ]
  },
  {
   "cell_type": "code",
   "execution_count": 22,
   "id": "ba09b98d",
   "metadata": {},
   "outputs": [
    {
     "data": {
      "text/plain": [
       "<AxesSubplot:xlabel='count', ylabel='make'>"
      ]
     },
     "execution_count": 22,
     "metadata": {},
     "output_type": "execute_result"
    },
    {
     "data": {
      "image/png": "[encoded data removed]",
      "text/plain": [
       "<Figure size 432x288 with 1 Axes>"
      ]
     },
     "metadata": {
      "needs_background": "light"
     },
     "output_type": "display_data"
    }
   ],
   "source": [
    "sns.countplot(\n",
    "    y=\"make\",  \n",
    "    data=(\n",
    "        fueleco.assign(\n",
    "            make=fueleco.make.where(\n",
    "                fueleco.make.isin(top_n), \"Other\"\n",
    "            )\n",
    "        )\n",
    "    ),\n",
    ")"
   ]
  },
  {
   "cell_type": "code",
   "execution_count": 23,
   "id": "ee5ce194",
   "metadata": {},
   "outputs": [
    {
     "data": {
      "text/plain": [
       "0        False\n",
       "1        False\n",
       "2        False\n",
       "3        False\n",
       "4        False\n",
       "         ...  \n",
       "39096    False\n",
       "39097    False\n",
       "39098    False\n",
       "39099    False\n",
       "39100    False\n",
       "Name: drive, Length: 39101, dtype: bool"
      ]
     },
     "execution_count": 23,
     "metadata": {},
     "output_type": "execute_result"
    }
   ],
   "source": [
    "fueleco.drive.isna()"
   ]
  },
  {
   "cell_type": "code",
   "execution_count": 24,
   "id": "2b393a12",
   "metadata": {},
   "outputs": [
    {
     "data": {
      "text/html": [
       "<div>\n",
       "<style scoped>\n",
       "    .dataframe tbody tr th:only-of-type {\n",
       "        vertical-align: middle;\n",
       "    }\n",
       "\n",
       "    .dataframe tbody tr th {\n",
       "        vertical-align: top;\n",
       "    }\n",
       "\n",
       "    .dataframe thead th {\n",
       "        text-align: right;\n",
       "    }\n",
       "</style>\n",
       "<table border=\"1\" class=\"dataframe\">\n",
       "  <thead>\n",
       "    <tr style=\"text-align: right;\">\n",
       "      <th></th>\n",
       "      <th>barrels08</th>\n",
       "      <th>barrelsA08</th>\n",
       "      <th>charge120</th>\n",
       "      <th>charge240</th>\n",
       "      <th>city08</th>\n",
       "      <th>city08U</th>\n",
       "      <th>cityA08</th>\n",
       "      <th>cityA08U</th>\n",
       "      <th>cityCD</th>\n",
       "      <th>cityE</th>\n",
       "      <th>...</th>\n",
       "      <th>mfrCode</th>\n",
       "      <th>c240Dscr</th>\n",
       "      <th>charge240b</th>\n",
       "      <th>c240bDscr</th>\n",
       "      <th>createdOn</th>\n",
       "      <th>modifiedOn</th>\n",
       "      <th>startStop</th>\n",
       "      <th>phevCity</th>\n",
       "      <th>phevHwy</th>\n",
       "      <th>phevComb</th>\n",
       "    </tr>\n",
       "  </thead>\n",
       "  <tbody>\n",
       "    <tr>\n",
       "      <th>7138</th>\n",
       "      <td>0.240</td>\n",
       "      <td>0.0</td>\n",
       "      <td>0.0</td>\n",
       "      <td>0.0</td>\n",
       "      <td>81</td>\n",
       "      <td>0.0</td>\n",
       "      <td>0</td>\n",
       "      <td>0.0</td>\n",
       "      <td>0.0</td>\n",
       "      <td>41.0</td>\n",
       "      <td>...</td>\n",
       "      <td>NaN</td>\n",
       "      <td>NaN</td>\n",
       "      <td>0.0</td>\n",
       "      <td>NaN</td>\n",
       "      <td>Tue Jan 01 00:00:00 EST 2013</td>\n",
       "      <td>Thu Jul 07 00:00:00 EDT 2016</td>\n",
       "      <td>N</td>\n",
       "      <td>0</td>\n",
       "      <td>0</td>\n",
       "      <td>0</td>\n",
       "    </tr>\n",
       "    <tr>\n",
       "      <th>8144</th>\n",
       "      <td>0.312</td>\n",
       "      <td>0.0</td>\n",
       "      <td>0.0</td>\n",
       "      <td>0.0</td>\n",
       "      <td>74</td>\n",
       "      <td>0.0</td>\n",
       "      <td>0</td>\n",
       "      <td>0.0</td>\n",
       "      <td>0.0</td>\n",
       "      <td>46.0</td>\n",
       "      <td>...</td>\n",
       "      <td>NaN</td>\n",
       "      <td>NaN</td>\n",
       "      <td>0.0</td>\n",
       "      <td>NaN</td>\n",
       "      <td>Tue Jan 01 00:00:00 EST 2013</td>\n",
       "      <td>Thu Jul 07 00:00:00 EDT 2016</td>\n",
       "      <td>N</td>\n",
       "      <td>0</td>\n",
       "      <td>0</td>\n",
       "      <td>0</td>\n",
       "    </tr>\n",
       "  </tbody>\n",
       "</table>\n",
       "<p>2 rows × 83 columns</p>\n",
       "</div>"
      ],
      "text/plain": [
       "      barrels08  barrelsA08  charge120  charge240  city08  city08U  cityA08  \\\n",
       "7138      0.240         0.0        0.0        0.0      81      0.0        0   \n",
       "8144      0.312         0.0        0.0        0.0      74      0.0        0   \n",
       "\n",
       "      cityA08U  cityCD  cityE  ...  mfrCode  c240Dscr  charge240b  c240bDscr  \\\n",
       "7138       0.0     0.0   41.0  ...      NaN       NaN         0.0        NaN   \n",
       "8144       0.0     0.0   46.0  ...      NaN       NaN         0.0        NaN   \n",
       "\n",
       "                         createdOn                    modifiedOn  startStop  \\\n",
       "7138  Tue Jan 01 00:00:00 EST 2013  Thu Jul 07 00:00:00 EDT 2016          N   \n",
       "8144  Tue Jan 01 00:00:00 EST 2013  Thu Jul 07 00:00:00 EDT 2016          N   \n",
       "\n",
       "      phevCity  phevHwy  phevComb  \n",
       "7138         0        0         0  \n",
       "8144         0        0         0  \n",
       "\n",
       "[2 rows x 83 columns]"
      ]
     },
     "execution_count": 24,
     "metadata": {},
     "output_type": "execute_result"
    }
   ],
   "source": [
    "fueleco[fueleco.drive.isna()].head(2)"
   ]
  },
  {
   "cell_type": "code",
   "execution_count": 25,
   "id": "758a2345",
   "metadata": {},
   "outputs": [
    {
     "data": {
      "text/plain": [
       "Front-Wheel Drive             13653\n",
       "Rear-Wheel Drive              13284\n",
       "4-Wheel or All-Wheel Drive     6648\n",
       "All-Wheel Drive                2401\n",
       "4-Wheel Drive                  1221\n",
       "NaN                            1189\n",
       "2-Wheel Drive                   507\n",
       "Part-time 4-Wheel Drive         198\n",
       "Name: drive, dtype: int64"
      ]
     },
     "execution_count": 25,
     "metadata": {},
     "output_type": "execute_result"
    }
   ],
   "source": [
    "fueleco.drive.value_counts(dropna=False)\n"
   ]
  },
  {
   "cell_type": "code",
   "execution_count": 26,
   "id": "be829fea",
   "metadata": {},
   "outputs": [
    {
     "data": {
      "text/plain": [
       "290            74\n",
       "270            56\n",
       "280            53\n",
       "310            41\n",
       "277            38\n",
       "               ..\n",
       "351             1\n",
       "240/290/290     1\n",
       "303             1\n",
       "340-350         1\n",
       "341             1\n",
       "Name: rangeA, Length: 216, dtype: int64"
      ]
     },
     "execution_count": 26,
     "metadata": {},
     "output_type": "execute_result"
    }
   ],
   "source": [
    "fueleco.rangeA.value_counts()\n",
    "#there are slashes (/) and dashes (-) in some of the entries and pandas did not know how to convert those values to numbers, so it left the whole column as a string column.\n",
    "#not really categorical, but a numeric column posing as a category."
   ]
  },
  {
   "cell_type": "markdown",
   "id": "fb836c40",
   "metadata": {},
   "source": [
    "This is actually a column that has two types: float and string. The data type is reported as object because that type can hold heterogenous typed columns"
   ]
  },
  {
   "cell_type": "code",
   "execution_count": 27,
   "id": "bab6496a",
   "metadata": {},
   "outputs": [
    {
     "data": {
      "text/plain": [
       "(-0.45, 44.95]     37688\n",
       "(269.7, 314.65]      559\n",
       "(314.65, 359.6]      352\n",
       "(359.6, 404.55]      205\n",
       "(224.75, 269.7]      181\n",
       "(404.55, 449.5]       82\n",
       "(89.9, 134.85]        12\n",
       "(179.8, 224.75]        9\n",
       "(44.95, 89.9]          8\n",
       "(134.85, 179.8]        5\n",
       "dtype: int64"
      ]
     },
     "execution_count": 27,
     "metadata": {},
     "output_type": "execute_result"
    }
   ],
   "source": [
    "(\n",
    "     fueleco.rangeA.fillna(\"0\")\n",
    "     .str.replace(\"-\", \"/\")\n",
    "     .str.split(\"/\", expand=True)\n",
    "     .astype(float)\n",
    "     .mean(axis=1) #secdtion one\n",
    "     .pipe(lambda ser_: pd.cut(ser_, 10)) #binining\n",
    "     .value_counts()\n",
    ")"
   ]
  },
  {
   "cell_type": "markdown",
   "id": "085660fe",
   "metadata": {},
   "source": [
    "cut and qcut. We can use cut to cut into equal-width bins, or bin widths that we specify"
   ]
  },
  {
   "cell_type": "markdown",
   "id": "5a2740d7",
   "metadata": {},
   "source": [
    "### Continuous data"
   ]
  },
  {
   "cell_type": "code",
   "execution_count": 28,
   "id": "7becdb46",
   "metadata": {},
   "outputs": [],
   "source": [
    "fueleco.select_dtypes?"
   ]
  },
  {
   "cell_type": "markdown",
   "id": "04d40b5c",
   "metadata": {},
   "source": [
    "Pick out the columns that are numeric (typically int64 or float64"
   ]
  },
  {
   "cell_type": "code",
   "execution_count": 29,
   "id": "eee12feb",
   "metadata": {},
   "outputs": [
    {
     "data": {
      "text/html": [
       "<div>\n",
       "<style scoped>\n",
       "    .dataframe tbody tr th:only-of-type {\n",
       "        vertical-align: middle;\n",
       "    }\n",
       "\n",
       "    .dataframe tbody tr th {\n",
       "        vertical-align: top;\n",
       "    }\n",
       "\n",
       "    .dataframe thead th {\n",
       "        text-align: right;\n",
       "    }\n",
       "</style>\n",
       "<table border=\"1\" class=\"dataframe\">\n",
       "  <thead>\n",
       "    <tr style=\"text-align: right;\">\n",
       "      <th></th>\n",
       "      <th>barrels08</th>\n",
       "      <th>barrelsA08</th>\n",
       "      <th>charge120</th>\n",
       "      <th>charge240</th>\n",
       "      <th>city08</th>\n",
       "      <th>city08U</th>\n",
       "      <th>cityA08</th>\n",
       "      <th>cityA08U</th>\n",
       "      <th>cityCD</th>\n",
       "      <th>cityE</th>\n",
       "      <th>...</th>\n",
       "      <th>UCity</th>\n",
       "      <th>UCityA</th>\n",
       "      <th>UHighway</th>\n",
       "      <th>UHighwayA</th>\n",
       "      <th>year</th>\n",
       "      <th>youSaveSpend</th>\n",
       "      <th>charge240b</th>\n",
       "      <th>phevCity</th>\n",
       "      <th>phevHwy</th>\n",
       "      <th>phevComb</th>\n",
       "    </tr>\n",
       "  </thead>\n",
       "  <tbody>\n",
       "    <tr>\n",
       "      <th>0</th>\n",
       "      <td>15.695714</td>\n",
       "      <td>0.0</td>\n",
       "      <td>0.0</td>\n",
       "      <td>0.0</td>\n",
       "      <td>19</td>\n",
       "      <td>0.0</td>\n",
       "      <td>0</td>\n",
       "      <td>0.0</td>\n",
       "      <td>0.0</td>\n",
       "      <td>0.0</td>\n",
       "      <td>...</td>\n",
       "      <td>23.3333</td>\n",
       "      <td>0.0</td>\n",
       "      <td>35.0000</td>\n",
       "      <td>0.0</td>\n",
       "      <td>1985</td>\n",
       "      <td>-1750</td>\n",
       "      <td>0.0</td>\n",
       "      <td>0</td>\n",
       "      <td>0</td>\n",
       "      <td>0</td>\n",
       "    </tr>\n",
       "    <tr>\n",
       "      <th>1</th>\n",
       "      <td>29.964545</td>\n",
       "      <td>0.0</td>\n",
       "      <td>0.0</td>\n",
       "      <td>0.0</td>\n",
       "      <td>9</td>\n",
       "      <td>0.0</td>\n",
       "      <td>0</td>\n",
       "      <td>0.0</td>\n",
       "      <td>0.0</td>\n",
       "      <td>0.0</td>\n",
       "      <td>...</td>\n",
       "      <td>11.0000</td>\n",
       "      <td>0.0</td>\n",
       "      <td>19.0000</td>\n",
       "      <td>0.0</td>\n",
       "      <td>1985</td>\n",
       "      <td>-10500</td>\n",
       "      <td>0.0</td>\n",
       "      <td>0</td>\n",
       "      <td>0</td>\n",
       "      <td>0</td>\n",
       "    </tr>\n",
       "    <tr>\n",
       "      <th>2</th>\n",
       "      <td>12.207778</td>\n",
       "      <td>0.0</td>\n",
       "      <td>0.0</td>\n",
       "      <td>0.0</td>\n",
       "      <td>23</td>\n",
       "      <td>0.0</td>\n",
       "      <td>0</td>\n",
       "      <td>0.0</td>\n",
       "      <td>0.0</td>\n",
       "      <td>0.0</td>\n",
       "      <td>...</td>\n",
       "      <td>29.0000</td>\n",
       "      <td>0.0</td>\n",
       "      <td>47.0000</td>\n",
       "      <td>0.0</td>\n",
       "      <td>1985</td>\n",
       "      <td>250</td>\n",
       "      <td>0.0</td>\n",
       "      <td>0</td>\n",
       "      <td>0</td>\n",
       "      <td>0</td>\n",
       "    </tr>\n",
       "    <tr>\n",
       "      <th>3</th>\n",
       "      <td>29.964545</td>\n",
       "      <td>0.0</td>\n",
       "      <td>0.0</td>\n",
       "      <td>0.0</td>\n",
       "      <td>10</td>\n",
       "      <td>0.0</td>\n",
       "      <td>0</td>\n",
       "      <td>0.0</td>\n",
       "      <td>0.0</td>\n",
       "      <td>0.0</td>\n",
       "      <td>...</td>\n",
       "      <td>12.2222</td>\n",
       "      <td>0.0</td>\n",
       "      <td>16.6667</td>\n",
       "      <td>0.0</td>\n",
       "      <td>1985</td>\n",
       "      <td>-10500</td>\n",
       "      <td>0.0</td>\n",
       "      <td>0</td>\n",
       "      <td>0</td>\n",
       "      <td>0</td>\n",
       "    </tr>\n",
       "    <tr>\n",
       "      <th>4</th>\n",
       "      <td>17.347895</td>\n",
       "      <td>0.0</td>\n",
       "      <td>0.0</td>\n",
       "      <td>0.0</td>\n",
       "      <td>17</td>\n",
       "      <td>0.0</td>\n",
       "      <td>0</td>\n",
       "      <td>0.0</td>\n",
       "      <td>0.0</td>\n",
       "      <td>0.0</td>\n",
       "      <td>...</td>\n",
       "      <td>21.0000</td>\n",
       "      <td>0.0</td>\n",
       "      <td>32.0000</td>\n",
       "      <td>0.0</td>\n",
       "      <td>1993</td>\n",
       "      <td>-4750</td>\n",
       "      <td>0.0</td>\n",
       "      <td>0</td>\n",
       "      <td>0</td>\n",
       "      <td>0</td>\n",
       "    </tr>\n",
       "    <tr>\n",
       "      <th>...</th>\n",
       "      <td>...</td>\n",
       "      <td>...</td>\n",
       "      <td>...</td>\n",
       "      <td>...</td>\n",
       "      <td>...</td>\n",
       "      <td>...</td>\n",
       "      <td>...</td>\n",
       "      <td>...</td>\n",
       "      <td>...</td>\n",
       "      <td>...</td>\n",
       "      <td>...</td>\n",
       "      <td>...</td>\n",
       "      <td>...</td>\n",
       "      <td>...</td>\n",
       "      <td>...</td>\n",
       "      <td>...</td>\n",
       "      <td>...</td>\n",
       "      <td>...</td>\n",
       "      <td>...</td>\n",
       "      <td>...</td>\n",
       "      <td>...</td>\n",
       "    </tr>\n",
       "    <tr>\n",
       "      <th>39096</th>\n",
       "      <td>14.982273</td>\n",
       "      <td>0.0</td>\n",
       "      <td>0.0</td>\n",
       "      <td>0.0</td>\n",
       "      <td>19</td>\n",
       "      <td>0.0</td>\n",
       "      <td>0</td>\n",
       "      <td>0.0</td>\n",
       "      <td>0.0</td>\n",
       "      <td>0.0</td>\n",
       "      <td>...</td>\n",
       "      <td>24.0000</td>\n",
       "      <td>0.0</td>\n",
       "      <td>37.0000</td>\n",
       "      <td>0.0</td>\n",
       "      <td>1993</td>\n",
       "      <td>-1500</td>\n",
       "      <td>0.0</td>\n",
       "      <td>0</td>\n",
       "      <td>0</td>\n",
       "      <td>0</td>\n",
       "    </tr>\n",
       "    <tr>\n",
       "      <th>39097</th>\n",
       "      <td>14.330870</td>\n",
       "      <td>0.0</td>\n",
       "      <td>0.0</td>\n",
       "      <td>0.0</td>\n",
       "      <td>20</td>\n",
       "      <td>0.0</td>\n",
       "      <td>0</td>\n",
       "      <td>0.0</td>\n",
       "      <td>0.0</td>\n",
       "      <td>0.0</td>\n",
       "      <td>...</td>\n",
       "      <td>25.0000</td>\n",
       "      <td>0.0</td>\n",
       "      <td>39.0000</td>\n",
       "      <td>0.0</td>\n",
       "      <td>1993</td>\n",
       "      <td>-1000</td>\n",
       "      <td>0.0</td>\n",
       "      <td>0</td>\n",
       "      <td>0</td>\n",
       "      <td>0</td>\n",
       "    </tr>\n",
       "    <tr>\n",
       "      <th>39098</th>\n",
       "      <td>15.695714</td>\n",
       "      <td>0.0</td>\n",
       "      <td>0.0</td>\n",
       "      <td>0.0</td>\n",
       "      <td>18</td>\n",
       "      <td>0.0</td>\n",
       "      <td>0</td>\n",
       "      <td>0.0</td>\n",
       "      <td>0.0</td>\n",
       "      <td>0.0</td>\n",
       "      <td>...</td>\n",
       "      <td>23.0000</td>\n",
       "      <td>0.0</td>\n",
       "      <td>34.0000</td>\n",
       "      <td>0.0</td>\n",
       "      <td>1993</td>\n",
       "      <td>-1750</td>\n",
       "      <td>0.0</td>\n",
       "      <td>0</td>\n",
       "      <td>0</td>\n",
       "      <td>0</td>\n",
       "    </tr>\n",
       "    <tr>\n",
       "      <th>39099</th>\n",
       "      <td>15.695714</td>\n",
       "      <td>0.0</td>\n",
       "      <td>0.0</td>\n",
       "      <td>0.0</td>\n",
       "      <td>18</td>\n",
       "      <td>0.0</td>\n",
       "      <td>0</td>\n",
       "      <td>0.0</td>\n",
       "      <td>0.0</td>\n",
       "      <td>0.0</td>\n",
       "      <td>...</td>\n",
       "      <td>23.0000</td>\n",
       "      <td>0.0</td>\n",
       "      <td>34.0000</td>\n",
       "      <td>0.0</td>\n",
       "      <td>1993</td>\n",
       "      <td>-1750</td>\n",
       "      <td>0.0</td>\n",
       "      <td>0</td>\n",
       "      <td>0</td>\n",
       "      <td>0</td>\n",
       "    </tr>\n",
       "    <tr>\n",
       "      <th>39100</th>\n",
       "      <td>18.311667</td>\n",
       "      <td>0.0</td>\n",
       "      <td>0.0</td>\n",
       "      <td>0.0</td>\n",
       "      <td>16</td>\n",
       "      <td>0.0</td>\n",
       "      <td>0</td>\n",
       "      <td>0.0</td>\n",
       "      <td>0.0</td>\n",
       "      <td>0.0</td>\n",
       "      <td>...</td>\n",
       "      <td>20.0000</td>\n",
       "      <td>0.0</td>\n",
       "      <td>29.0000</td>\n",
       "      <td>0.0</td>\n",
       "      <td>1993</td>\n",
       "      <td>-5500</td>\n",
       "      <td>0.0</td>\n",
       "      <td>0</td>\n",
       "      <td>0</td>\n",
       "      <td>0</td>\n",
       "    </tr>\n",
       "  </tbody>\n",
       "</table>\n",
       "<p>39101 rows × 59 columns</p>\n",
       "</div>"
      ],
      "text/plain": [
       "       barrels08  barrelsA08  charge120  charge240  city08  city08U  cityA08  \\\n",
       "0      15.695714         0.0        0.0        0.0      19      0.0        0   \n",
       "1      29.964545         0.0        0.0        0.0       9      0.0        0   \n",
       "2      12.207778         0.0        0.0        0.0      23      0.0        0   \n",
       "3      29.964545         0.0        0.0        0.0      10      0.0        0   \n",
       "4      17.347895         0.0        0.0        0.0      17      0.0        0   \n",
       "...          ...         ...        ...        ...     ...      ...      ...   \n",
       "39096  14.982273         0.0        0.0        0.0      19      0.0        0   \n",
       "39097  14.330870         0.0        0.0        0.0      20      0.0        0   \n",
       "39098  15.695714         0.0        0.0        0.0      18      0.0        0   \n",
       "39099  15.695714         0.0        0.0        0.0      18      0.0        0   \n",
       "39100  18.311667         0.0        0.0        0.0      16      0.0        0   \n",
       "\n",
       "       cityA08U  cityCD  cityE  ...    UCity  UCityA  UHighway  UHighwayA  \\\n",
       "0           0.0     0.0    0.0  ...  23.3333     0.0   35.0000        0.0   \n",
       "1           0.0     0.0    0.0  ...  11.0000     0.0   19.0000        0.0   \n",
       "2           0.0     0.0    0.0  ...  29.0000     0.0   47.0000        0.0   \n",
       "3           0.0     0.0    0.0  ...  12.2222     0.0   16.6667        0.0   \n",
       "4           0.0     0.0    0.0  ...  21.0000     0.0   32.0000        0.0   \n",
       "...         ...     ...    ...  ...      ...     ...       ...        ...   \n",
       "39096       0.0     0.0    0.0  ...  24.0000     0.0   37.0000        0.0   \n",
       "39097       0.0     0.0    0.0  ...  25.0000     0.0   39.0000        0.0   \n",
       "39098       0.0     0.0    0.0  ...  23.0000     0.0   34.0000        0.0   \n",
       "39099       0.0     0.0    0.0  ...  23.0000     0.0   34.0000        0.0   \n",
       "39100       0.0     0.0    0.0  ...  20.0000     0.0   29.0000        0.0   \n",
       "\n",
       "       year  youSaveSpend  charge240b  phevCity  phevHwy  phevComb  \n",
       "0      1985         -1750         0.0         0        0         0  \n",
       "1      1985        -10500         0.0         0        0         0  \n",
       "2      1985           250         0.0         0        0         0  \n",
       "3      1985        -10500         0.0         0        0         0  \n",
       "4      1993         -4750         0.0         0        0         0  \n",
       "...     ...           ...         ...       ...      ...       ...  \n",
       "39096  1993         -1500         0.0         0        0         0  \n",
       "39097  1993         -1000         0.0         0        0         0  \n",
       "39098  1993         -1750         0.0         0        0         0  \n",
       "39099  1993         -1750         0.0         0        0         0  \n",
       "39100  1993         -5500         0.0         0        0         0  \n",
       "\n",
       "[39101 rows x 59 columns]"
      ]
     },
     "execution_count": 29,
     "metadata": {},
     "output_type": "execute_result"
    }
   ],
   "source": [
    "fueleco.select_dtypes(\"number\")\n"
   ]
  },
  {
   "cell_type": "code",
   "execution_count": 30,
   "id": "0a39f4ff",
   "metadata": {},
   "outputs": [
    {
     "data": {
      "text/plain": [
       "4217     11\n",
       "1736     21\n",
       "36029    16\n",
       "37631    16\n",
       "1668     17\n",
       "Name: city08, dtype: int64"
      ]
     },
     "execution_count": 30,
     "metadata": {},
     "output_type": "execute_result"
    }
   ],
   "source": [
    "fueleco.city08.sample(5, random_state=42)"
   ]
  },
  {
   "cell_type": "code",
   "execution_count": 31,
   "id": "ccde8bce",
   "metadata": {},
   "outputs": [
    {
     "data": {
      "text/plain": [
       "count    39101.000000\n",
       "mean        18.077799\n",
       "std          6.970672\n",
       "min          6.000000\n",
       "25%         15.000000\n",
       "50%         17.000000\n",
       "75%         20.000000\n",
       "max        150.000000\n",
       "Name: city08, dtype: float64"
      ]
     },
     "execution_count": 31,
     "metadata": {},
     "output_type": "execute_result"
    }
   ],
   "source": [
    "fueleco.city08.describe()"
   ]
  },
  {
   "cell_type": "code",
   "execution_count": 32,
   "id": "878477b9",
   "metadata": {},
   "outputs": [
    {
     "data": {
      "image/png": "[encoded data removed]",
      "text/plain": [
       "<Figure size 720x576 with 1 Axes>"
      ]
     },
     "metadata": {
      "needs_background": "light"
     },
     "output_type": "display_data"
    }
   ],
   "source": [
    ">>> fig, ax = plt.subplots(figsize=(10, 8))\n",
    ">>> fueleco.city08.hist(ax=ax, bins=30);\n"
   ]
  },
  {
   "cell_type": "code",
   "execution_count": 33,
   "id": "763bfbd6",
   "metadata": {},
   "outputs": [
    {
     "name": "stderr",
     "output_type": "stream",
     "text": [
      "/home/amalpjose/miniconda3/envs/lrnenv/lib/python3.9/site-packages/seaborn/distributions.py:2619: FutureWarning: `distplot` is a deprecated function and will be removed in a future version. Please adapt your code to use either `displot` (a figure-level function with similar flexibility) or `histplot` (an axes-level function for histograms).\n",
      "  warnings.warn(msg, FutureWarning)\n",
      "/home/amalpjose/miniconda3/envs/lrnenv/lib/python3.9/site-packages/seaborn/distributions.py:2103: FutureWarning: The `axis` variable is no longer used and will be removed. Instead, assign variables directly to `x` or `y`.\n",
      "  warnings.warn(msg, FutureWarning)\n"
     ]
    },
    {
     "data": {
      "text/plain": [
       "<AxesSubplot:xlabel='city08', ylabel='Density'>"
      ]
     },
     "execution_count": 33,
     "metadata": {},
     "output_type": "execute_result"
    },
    {
     "data": {
      "image/png": "[encoded data removed]",
      "text/plain": [
       "<Figure size 720x576 with 1 Axes>"
      ]
     },
     "metadata": {
      "needs_background": "light"
     },
     "output_type": "display_data"
    }
   ],
   "source": [
    "fig, ax = plt.subplots(figsize=(10, 8))\n",
    "sns.distplot(fueleco.city08, rug=True, ax=ax)\n"
   ]
  },
  {
   "cell_type": "code",
   "execution_count": 34,
   "id": "2e3bfae2",
   "metadata": {},
   "outputs": [
    {
     "name": "stderr",
     "output_type": "stream",
     "text": [
      "/home/amalpjose/miniconda3/envs/lrnenv/lib/python3.9/site-packages/seaborn/_decorators.py:36: FutureWarning: Pass the following variable as a keyword arg: x. From version 0.12, the only valid positional argument will be `data`, and passing other arguments without an explicit keyword will result in an error or misinterpretation.\n",
      "  warnings.warn(\n",
      "/home/amalpjose/miniconda3/envs/lrnenv/lib/python3.9/site-packages/seaborn/_decorators.py:36: FutureWarning: Pass the following variable as a keyword arg: x. From version 0.12, the only valid positional argument will be `data`, and passing other arguments without an explicit keyword will result in an error or misinterpretation.\n",
      "  warnings.warn(\n",
      "/home/amalpjose/miniconda3/envs/lrnenv/lib/python3.9/site-packages/seaborn/_decorators.py:36: FutureWarning: Pass the following variable as a keyword arg: x. From version 0.12, the only valid positional argument will be `data`, and passing other arguments without an explicit keyword will result in an error or misinterpretation.\n",
      "  warnings.warn(\n"
     ]
    },
    {
     "data": {
      "text/plain": [
       "<AxesSubplot:xlabel='city08'>"
      ]
     },
     "execution_count": 34,
     "metadata": {},
     "output_type": "execute_result"
    },
    {
     "data": {
      "image/png": "[encoded data removed]",
      "text/plain": [
       "<Figure size 720x576 with 3 Axes>"
      ]
     },
     "metadata": {
      "needs_background": "light"
     },
     "output_type": "display_data"
    }
   ],
   "source": [
    ">>> fig, axs = plt.subplots(nrows=3, figsize=(10, 8)) #note!\n",
    ">>> sns.boxplot(fueleco.city08, ax=axs[0])\n",
    ">>> sns.violinplot(fueleco.city08, ax=axs[1])\n",
    ">>> sns.boxenplot(fueleco.city08, ax=axs[2])"
   ]
  },
  {
   "cell_type": "code",
   "execution_count": 35,
   "id": "23b8fddf",
   "metadata": {},
   "outputs": [
    {
     "data": {
      "text/plain": [
       "KstestResult(statistic=0.9999999990134123, pvalue=0.0)"
      ]
     },
     "execution_count": 35,
     "metadata": {},
     "output_type": "execute_result"
    }
   ],
   "source": [
    "from scipy import stats\n",
    "\n",
    "stats.kstest(fueleco.city08, cdf=\"norm\")\n"
   ]
  },
  {
   "cell_type": "code",
   "execution_count": 36,
   "id": "4342625e",
   "metadata": {},
   "outputs": [
    {
     "data": {
      "image/png": "[encoded data removed]",
      "text/plain": [
       "<Figure size 720x576 with 1 Axes>"
      ]
     },
     "metadata": {
      "needs_background": "light"
     },
     "output_type": "display_data"
    }
   ],
   "source": [
    ">>> fig, ax = plt.subplots(figsize=(10, 8))\n",
    ">>> stats.probplot(fueleco.city08, plot=ax)\n",
    ">>> fig.savefig(\"c5-conprob.png\", dpi=300)"
   ]
  },
  {
   "cell_type": "markdown",
   "id": "2851b5cc",
   "metadata": {},
   "source": [
    "### Comparing continuous values across categories\n",
    "We will look at mileage numbers in different brands: Ford, Honda, Tesla, and BMW.\n",
    "\n",
    "How"
   ]
  },
  {
   "cell_type": "code",
   "execution_count": 37,
   "id": "d02b51a1",
   "metadata": {},
   "outputs": [],
   "source": [
    "mask = fueleco.make.isin(\n",
    "     [\"Ford\", \"Honda\", \"Tesla\", \"BMW\"] #Return a boolean Series showing whether each element in the Series matches an element in the passed sequence of `values` exactly\n",
    ") #value is in this list of labels. boolean"
   ]
  },
  {
   "cell_type": "code",
   "execution_count": 38,
   "id": "f62f6c91",
   "metadata": {},
   "outputs": [],
   "source": [
    "fueleco.make.isin?"
   ]
  },
  {
   "cell_type": "code",
   "execution_count": 39,
   "id": "88bc6a42",
   "metadata": {},
   "outputs": [
    {
     "data": {
      "text/html": [
       "<div>\n",
       "<style scoped>\n",
       "    .dataframe tbody tr th:only-of-type {\n",
       "        vertical-align: middle;\n",
       "    }\n",
       "\n",
       "    .dataframe tbody tr th {\n",
       "        vertical-align: top;\n",
       "    }\n",
       "\n",
       "    .dataframe thead th {\n",
       "        text-align: right;\n",
       "    }\n",
       "</style>\n",
       "<table border=\"1\" class=\"dataframe\">\n",
       "  <thead>\n",
       "    <tr style=\"text-align: right;\">\n",
       "      <th></th>\n",
       "      <th>mean</th>\n",
       "      <th>std</th>\n",
       "    </tr>\n",
       "    <tr>\n",
       "      <th>make</th>\n",
       "      <th></th>\n",
       "      <th></th>\n",
       "    </tr>\n",
       "  </thead>\n",
       "  <tbody>\n",
       "    <tr>\n",
       "      <th>BMW</th>\n",
       "      <td>17.817377</td>\n",
       "      <td>7.372907</td>\n",
       "    </tr>\n",
       "    <tr>\n",
       "      <th>Ford</th>\n",
       "      <td>16.853803</td>\n",
       "      <td>6.701029</td>\n",
       "    </tr>\n",
       "    <tr>\n",
       "      <th>Honda</th>\n",
       "      <td>24.372973</td>\n",
       "      <td>9.154064</td>\n",
       "    </tr>\n",
       "    <tr>\n",
       "      <th>Tesla</th>\n",
       "      <td>92.826087</td>\n",
       "      <td>5.538970</td>\n",
       "    </tr>\n",
       "  </tbody>\n",
       "</table>\n",
       "</div>"
      ],
      "text/plain": [
       "            mean       std\n",
       "make                      \n",
       "BMW    17.817377  7.372907\n",
       "Ford   16.853803  6.701029\n",
       "Honda  24.372973  9.154064\n",
       "Tesla  92.826087  5.538970"
      ]
     },
     "execution_count": 39,
     "metadata": {},
     "output_type": "execute_result"
    }
   ],
   "source": [
    "fueleco[mask].groupby(\"make\").city08.agg(\n",
    "     [\"mean\", \"std\"]\n",
    ")"
   ]
  },
  {
   "cell_type": "code",
   "execution_count": 40,
   "id": "fefd85cc",
   "metadata": {},
   "outputs": [
    {
     "data": {
      "image/png": "[encoded data removed]",
      "text/plain": [
       "<Figure size 720x720 with 4 Axes>"
      ]
     },
     "metadata": {
      "needs_background": "light"
     },
     "output_type": "display_data"
    }
   ],
   "source": [
    "g = sns.catplot(\n",
    "     x=\"make\",\n",
    "     y=\"city08\",\n",
    "     data=fueleco[mask],\n",
    "     kind=\"box\",\n",
    "     col=\"year\",\n",
    "     col_order=[2012, 2014, 2016, 2018],\n",
    "     col_wrap=2,\n",
    ")"
   ]
  },
  {
   "cell_type": "code",
   "execution_count": 41,
   "id": "924500f8",
   "metadata": {},
   "outputs": [
    {
     "data": {
      "image/png": "[encoded data removed]",
      "text/plain": [
       "<Figure size 421.5x360 with 1 Axes>"
      ]
     },
     "metadata": {
      "needs_background": "light"
     },
     "output_type": "display_data"
    }
   ],
   "source": [
    "g = sns.catplot(\n",
    "   x=\"make\",\n",
    "   y=\"city08\", \n",
    "   data=fueleco[mask],\n",
    "   kind=\"box\",\n",
    "   hue=\"year\",\n",
    "   hue_order=[2012, 2014, 2016, 2018],\n",
    ")"
   ]
  },
  {
   "cell_type": "code",
   "execution_count": 42,
   "id": "1033d825",
   "metadata": {},
   "outputs": [],
   "source": [
    "mask = fueleco.make.isin(\n",
    "     [\"Ford\", \"Honda\", \"Tesla\", \"BMW\"]\n",
    ")"
   ]
  },
  {
   "cell_type": "code",
   "execution_count": 43,
   "id": "29c7b5bc",
   "metadata": {},
   "outputs": [
    {
     "data": {
      "text/plain": [
       "make\n",
       "BMW      1807\n",
       "Ford     3208\n",
       "Honda     925\n",
       "Tesla      46\n",
       "Name: city08, dtype: int64"
      ]
     },
     "execution_count": 43,
     "metadata": {},
     "output_type": "execute_result"
    }
   ],
   "source": [
    "(fueleco[mask].groupby(\"make\").city08.count())"
   ]
  },
  {
   "cell_type": "code",
   "execution_count": 44,
   "id": "98c28fa6",
   "metadata": {},
   "outputs": [
    {
     "data": {
      "text/html": [
       "<style type=\"text/css\">\n",
       "#T_7c76d_row0_col0 {\n",
       "  background-color: #700320;\n",
       "  color: #f1f1f1;\n",
       "}\n",
       "#T_7c76d_row0_col1 {\n",
       "  background-color: #f5f6f7;\n",
       "  color: #000000;\n",
       "}\n",
       "#T_7c76d_row1_col0, #T_7c76d_row3_col1 {\n",
       "  background-color: #67001f;\n",
       "  color: #f1f1f1;\n",
       "}\n",
       "#T_7c76d_row1_col1 {\n",
       "  background-color: #f6b191;\n",
       "  color: #000000;\n",
       "}\n",
       "#T_7c76d_row2_col0 {\n",
       "  background-color: #b1182b;\n",
       "  color: #f1f1f1;\n",
       "}\n",
       "#T_7c76d_row2_col1, #T_7c76d_row3_col0 {\n",
       "  background-color: #053061;\n",
       "  color: #f1f1f1;\n",
       "}\n",
       "</style>\n",
       "<table id=\"T_7c76d\">\n",
       "  <thead>\n",
       "    <tr>\n",
       "      <th class=\"blank level0\" >&nbsp;</th>\n",
       "      <th id=\"T_7c76d_level0_col0\" class=\"col_heading level0 col0\" >mean</th>\n",
       "      <th id=\"T_7c76d_level0_col1\" class=\"col_heading level0 col1\" >std</th>\n",
       "    </tr>\n",
       "    <tr>\n",
       "      <th class=\"index_name level0\" >make</th>\n",
       "      <th class=\"blank col0\" >&nbsp;</th>\n",
       "      <th class=\"blank col1\" >&nbsp;</th>\n",
       "    </tr>\n",
       "  </thead>\n",
       "  <tbody>\n",
       "    <tr>\n",
       "      <th id=\"T_7c76d_level0_row0\" class=\"row_heading level0 row0\" >BMW</th>\n",
       "      <td id=\"T_7c76d_row0_col0\" class=\"data row0 col0\" >17.817377</td>\n",
       "      <td id=\"T_7c76d_row0_col1\" class=\"data row0 col1\" >7.372907</td>\n",
       "    </tr>\n",
       "    <tr>\n",
       "      <th id=\"T_7c76d_level0_row1\" class=\"row_heading level0 row1\" >Ford</th>\n",
       "      <td id=\"T_7c76d_row1_col0\" class=\"data row1 col0\" >16.853803</td>\n",
       "      <td id=\"T_7c76d_row1_col1\" class=\"data row1 col1\" >6.701029</td>\n",
       "    </tr>\n",
       "    <tr>\n",
       "      <th id=\"T_7c76d_level0_row2\" class=\"row_heading level0 row2\" >Honda</th>\n",
       "      <td id=\"T_7c76d_row2_col0\" class=\"data row2 col0\" >24.372973</td>\n",
       "      <td id=\"T_7c76d_row2_col1\" class=\"data row2 col1\" >9.154064</td>\n",
       "    </tr>\n",
       "    <tr>\n",
       "      <th id=\"T_7c76d_level0_row3\" class=\"row_heading level0 row3\" >Tesla</th>\n",
       "      <td id=\"T_7c76d_row3_col0\" class=\"data row3 col0\" >92.826087</td>\n",
       "      <td id=\"T_7c76d_row3_col1\" class=\"data row3 col1\" >5.538970</td>\n",
       "    </tr>\n",
       "  </tbody>\n",
       "</table>\n"
      ],
      "text/plain": [
       "<pandas.io.formats.style.Styler at 0x7fd7e63a96a0>"
      ]
     },
     "execution_count": 44,
     "metadata": {},
     "output_type": "execute_result"
    }
   ],
   "source": [
    "(\n",
    "     fueleco[mask]\n",
    "     .groupby(\"make\")\n",
    "     .city08.agg([\"mean\", \"std\"])\n",
    "     .style.background_gradient(cmap=\"RdBu\", axis=0)\n",
    ")"
   ]
  },
  {
   "cell_type": "markdown",
   "id": "0254ff2f",
   "metadata": {},
   "source": [
    "### Comparing two continuous columns\n",
    "Evaluating how two continuous columns relate to one another is the essence of regression. But it goes beyond that. If you have two columns with a high correlation to one another, often, you may drop one of them as a redundant column. "
   ]
  },
  {
   "cell_type": "code",
   "execution_count": 45,
   "id": "292c11f5",
   "metadata": {},
   "outputs": [
    {
     "name": "stdout",
     "output_type": "stream",
     "text": [
      "46.33326023673625\n",
      "47.41994667819079\n",
      "-5.931560263764761\n"
     ]
    }
   ],
   "source": [
    "print(fueleco.city08.cov(fueleco.highway08))\n",
    "print(fueleco.city08.cov(fueleco.comb08))\n",
    "print(fueleco.city08.cov(fueleco.cylinders))"
   ]
  },
  {
   "cell_type": "code",
   "execution_count": 46,
   "id": "491fcef0",
   "metadata": {},
   "outputs": [
    {
     "data": {
      "text/plain": [
       "0.932494506228495"
      ]
     },
     "execution_count": 46,
     "metadata": {},
     "output_type": "execute_result"
    }
   ],
   "source": [
    "fueleco.city08.corr(fueleco.highway08)\n"
   ]
  },
  {
   "cell_type": "code",
   "execution_count": 47,
   "id": "5b3f5983",
   "metadata": {},
   "outputs": [
    {
     "name": "stderr",
     "output_type": "stream",
     "text": [
      "/tmp/ipykernel_4770/1532646721.py:7: DeprecationWarning: `np.bool` is a deprecated alias for the builtin `bool`. To silence this warning, use `bool` by itself. Doing this will not modify any behavior and is safe. If you specifically wanted the numpy scalar type, use `np.bool_` here.\n",
      "Deprecated in NumPy 1.20; for more details and guidance: https://numpy.org/devdocs/release/1.20.0-notes.html#deprecations\n",
      "  mask = np.zeros_like(corr, dtype=np.bool)\n"
     ]
    },
    {
     "data": {
      "text/plain": [
       "<AxesSubplot:>"
      ]
     },
     "execution_count": 47,
     "metadata": {},
     "output_type": "execute_result"
    },
    {
     "data": {
      "image/png": "[encoded data removed]",
      "text/plain": [
       "<Figure size 576x576 with 2 Axes>"
      ]
     },
     "metadata": {
      "needs_background": "light"
     },
     "output_type": "display_data"
    }
   ],
   "source": [
    "#Visualize the correlations in a heatmap\n",
    ">>> import seaborn as sns\n",
    ">>> fig, ax = plt.subplots(figsize=(8, 8))\n",
    ">>> corr = fueleco[\n",
    "...     [\"city08\", \"highway08\", \"cylinders\"]\n",
    "... ].corr()\n",
    ">>> mask = np.zeros_like(corr, dtype=np.bool)\n",
    ">>> mask[np.triu_indices_from(mask)] = True\n",
    ">>> sns.heatmap(\n",
    "...     corr,\n",
    "...     mask=mask,\n",
    "...     fmt=\".2f\",\n",
    "...     annot=True,\n",
    "...     ax=ax,\n",
    "...     cmap=\"RdBu\",\n",
    "...     vmin=-1,\n",
    "...     vmax=1,\n",
    "...     square=True,\n",
    "... )"
   ]
  },
  {
   "cell_type": "code",
   "execution_count": null,
   "id": "19f3c36c",
   "metadata": {},
   "outputs": [],
   "source": []
  },
  {
   "cell_type": "code",
   "execution_count": 48,
   "id": "f372de3e",
   "metadata": {},
   "outputs": [
    {
     "data": {
      "image/png": "[encoded data removed]",
      "text/plain": [
       "<Figure size 576x576 with 1 Axes>"
      ]
     },
     "metadata": {
      "needs_background": "light"
     },
     "output_type": "display_data"
    }
   ],
   "source": [
    "fig, ax = plt.subplots(figsize=(8, 8))\n",
    "fueleco.plot.scatter(\n",
    "    x=\"city08\", y=\"highway08\", alpha=0.1, ax=ax\n",
    ")\n",
    "fig.savefig(\n",
    "    \"c5-scatpan.png\", dpi=300, bbox_inches=\"tight\"\n",
    ")"
   ]
  },
  {
   "cell_type": "code",
   "execution_count": 49,
   "id": "beb4d11e",
   "metadata": {},
   "outputs": [
    {
     "data": {
      "text/plain": [
       "<AxesSubplot:xlabel='city08', ylabel='cylinders'>"
      ]
     },
     "execution_count": 49,
     "metadata": {},
     "output_type": "execute_result"
    },
    {
     "data": {
      "image/png": "[encoded data removed]",
      "text/plain": [
       "<Figure size 576x576 with 1 Axes>"
      ]
     },
     "metadata": {
      "needs_background": "light"
     },
     "output_type": "display_data"
    }
   ],
   "source": [
    "fig, ax = plt.subplots(figsize=(8, 8))\n",
    "fueleco.plot.scatter(\n",
    "    x=\"city08\", y=\"cylinders\", alpha=0.1, ax=ax\n",
    ")"
   ]
  },
  {
   "cell_type": "markdown",
   "id": "0fdc1bab",
   "metadata": {},
   "source": [
    "Fill in some missing values. From the cylinder plot, we can see that some of the high-end values for mileage are missing. This is because these cars tend to be electric and not have cylinders. We will fix that by filling those values in with 0:"
   ]
  },
  {
   "cell_type": "code",
   "execution_count": 50,
   "id": "1b808113",
   "metadata": {},
   "outputs": [
    {
     "data": {
      "text/plain": [
       "<AxesSubplot:xlabel='city08', ylabel='cylinders'>"
      ]
     },
     "execution_count": 50,
     "metadata": {},
     "output_type": "execute_result"
    },
    {
     "data": {
      "image/png": "[encoded data removed]",
      "text/plain": [
       "<Figure size 576x576 with 1 Axes>"
      ]
     },
     "metadata": {
      "needs_background": "light"
     },
     "output_type": "display_data"
    }
   ],
   "source": [
    ">>> fueleco.cylinders.isna().sum()\n",
    "145\n",
    ">>> fig, ax = plt.subplots(figsize=(8, 8))\n",
    ">>> (\n",
    "...     fueleco.assign(\n",
    "...         cylinders=fueleco.cylinders.fillna(0)\n",
    "...     ).plot.scatter(\n",
    "...         x=\"city08\", y=\"cylinders\", alpha=0.1, ax=ax\n",
    "...     )\n",
    "... )"
   ]
  },
  {
   "cell_type": "code",
   "execution_count": 51,
   "id": "c258058d",
   "metadata": {},
   "outputs": [
    {
     "data": {
      "image/png": "[encoded data removed]",
      "text/plain": [
       "<Figure size 360x360 with 1 Axes>"
      ]
     },
     "metadata": {
      "needs_background": "light"
     },
     "output_type": "display_data"
    }
   ],
   "source": [
    "#adding regression line, adding line\n",
    ">>> res = sns.lmplot(\n",
    "...     x=\"city08\", y=\"highway08\", data=fueleco\n",
    "... )"
   ]
  },
  {
   "cell_type": "markdown",
   "id": "276fdf20",
   "metadata": {},
   "source": [
    "correlation is scale-invariant, but covariance is not. If we compare city08 to two times highway08, they have the same correlation, but the covariance changes.\n",
    "\n",
    "A heatmap is a great way to look at correlations in aggregate. We can look for the most blue and most red cells to find the strongest correlations. Make sure you set the vmin and vmax parameters to -1 and 1, respectively, so that the coloring is correct.\n",
    "\n",
    "Scatter plots are another way to visualize the relationships between continuous variables. It lets us see the trends that pop out. One tip that I like to give students is to make sure you set the alpha parameter to a value less than or equal to .5. This makes the points transparent and tells a different story than scatter plots with markers that are completely opaque.\n",
    "\n"
   ]
  },
  {
   "cell_type": "code",
   "execution_count": 52,
   "id": "e4c59b86",
   "metadata": {},
   "outputs": [
    {
     "data": {
      "image/png": "[encoded data removed]",
      "text/plain": [
       "<Figure size 639.25x576 with 1 Axes>"
      ]
     },
     "metadata": {
      "needs_background": "light"
     },
     "output_type": "display_data"
    }
   ],
   "source": [
    "#If we have more variables that we want to compare, we can use seaborn to add more dimensions to a scatter plot. \n",
    "#we can color the dots by year and size them by the number of barrels the vehicle consumes. We have gone from two dimensions to four!\n",
    "res = sns.relplot(\n",
    "     x=\"city08\",\n",
    "     y=\"highway08\",\n",
    "     data=fueleco.assign(\n",
    "         cylinders=fueleco.cylinders.fillna(0)\n",
    "     ),\n",
    "     hue=\"year\",\n",
    "     size=\"barrels08\",\n",
    "     alpha=0.5,\n",
    "     height=8,\n",
    " )"
   ]
  },
  {
   "cell_type": "code",
   "execution_count": 53,
   "id": "c90d9835",
   "metadata": {},
   "outputs": [
    {
     "data": {
      "image/png": "[encoded data removed]",
      "text/plain": [
       "<Figure size 1215.25x576 with 2 Axes>"
      ]
     },
     "metadata": {
      "needs_background": "light"
     },
     "output_type": "display_data"
    }
   ],
   "source": [
    "res = sns.relplot(\n",
    "     x=\"city08\",\n",
    "     y=\"highway08\",\n",
    "     data=fueleco.assign(\n",
    "         cylinders=fueleco.cylinders.fillna(0)\n",
    "     ),\n",
    "     hue=\"year\",\n",
    "     size=\"barrels08\",\n",
    "     alpha=0.5,\n",
    "     height=8,\n",
    "     col=\"make\",\n",
    "     col_order=[\"Ford\", \"Tesla\"],\n",
    ")"
   ]
  },
  {
   "cell_type": "markdown",
   "id": "abc83eac",
   "metadata": {},
   "source": [
    "A seaborn scatter plot showing the mileage relationships colored by year, sized by the number of barrels of gas a car uses, and faceted by make. Note!"
   ]
  },
  {
   "cell_type": "code",
   "execution_count": 54,
   "id": "d6b74f80",
   "metadata": {},
   "outputs": [],
   "source": [
    "def generalize(ser, match_name, default):\n",
    "    seen = None\n",
    "    for match, name in match_name:\n",
    "        mask = ser.str.contains(match)\n",
    "        if seen is None:\n",
    "            seen = mask\n",
    "        else:\n",
    "            seen |= mask\n",
    "        ser = ser.where(~mask, name)\n",
    "    ser = ser.where(seen, default)\n",
    "    return ser\n"
   ]
  },
  {
   "cell_type": "markdown",
   "id": "608bdc03",
   "metadata": {},
   "source": [
    "I reduced the cardinality of the VClass column by using the generalize function that I created. I did this because bar plots need spacing; they need to breathe. I typically will limit the number of bars to fewer than 30. The generalize function is useful for cleaning up data, and you might want to refer back to it in your own data analyses."
   ]
  },
  {
   "cell_type": "code",
   "execution_count": 55,
   "id": "4d1512e1",
   "metadata": {},
   "outputs": [],
   "source": [
    "makes = [\"Ford\", \"Tesla\", \"BMW\", \"Toyota\"]\n",
    "\n",
    "data = fueleco[fueleco.make.isin(makes)].assign(\n",
    "     SClass=lambda df_: generalize(\n",
    "              df_.VClass,\n",
    "         [\n",
    "             (\"Seaters\", \"Car\"),\n",
    "             (\"Car\", \"Car\"),\n",
    "             (\"Utility\", \"SUV\"),\n",
    "             (\"Truck\", \"Truck\"),\n",
    "             (\"Van\", \"Van\"),\n",
    "             (\"van\", \"Van\"),\n",
    "             (\"Wagon\", \"Wagon\"),\n",
    "         ],\n",
    "         \"other\",\n",
    "     )\n",
    ")\n"
   ]
  },
  {
   "cell_type": "markdown",
   "id": "f4b343cd",
   "metadata": {},
   "source": [
    "make sure that you go through the process of understanding the data. Because this can overwhelm you with the sheer amount of output, it can be tempting to skim over it, rather than to dig into it."
   ]
  },
  {
   "cell_type": "code",
   "execution_count": null,
   "id": "8fd8a7db",
   "metadata": {},
   "outputs": [],
   "source": []
  },
  {
   "cell_type": "code",
   "execution_count": null,
   "id": "6c3dc298",
   "metadata": {},
   "outputs": [],
   "source": []
  },
  {
   "cell_type": "code",
   "execution_count": null,
   "id": "1c3f2947",
   "metadata": {},
   "outputs": [],
   "source": []
  },
  {
   "cell_type": "code",
   "execution_count": null,
   "id": "03b9aac4",
   "metadata": {},
   "outputs": [],
   "source": []
  },
  {
   "cell_type": "code",
   "execution_count": null,
   "id": "a96fd205",
   "metadata": {},
   "outputs": [],
   "source": []
  },
  {
   "cell_type": "code",
   "execution_count": null,
   "id": "f1a1ee99",
   "metadata": {},
   "outputs": [],
   "source": []
  },
  {
   "cell_type": "code",
   "execution_count": null,
   "id": "ac3738d8",
   "metadata": {},
   "outputs": [],
   "source": []
  },
  {
   "cell_type": "code",
   "execution_count": null,
   "id": "e3baa9a9",
   "metadata": {},
   "outputs": [],
   "source": []
  },
  {
   "cell_type": "code",
   "execution_count": null,
   "id": "df3722f0",
   "metadata": {},
   "outputs": [],
   "source": []
  },
  {
   "cell_type": "code",
   "execution_count": null,
   "id": "b22968c6",
   "metadata": {},
   "outputs": [],
   "source": []
  },
  {
   "cell_type": "code",
   "execution_count": null,
   "id": "ba3e38b1",
   "metadata": {},
   "outputs": [],
   "source": []
  },
  {
   "cell_type": "code",
   "execution_count": null,
   "id": "0f7b21f3",
   "metadata": {},
   "outputs": [],
   "source": []
  },
  {
   "cell_type": "code",
   "execution_count": null,
   "id": "6556c87a",
   "metadata": {},
   "outputs": [],
   "source": []
  }
 ],
 "metadata": {
  "kernelspec": {
   "display_name": "Python 3 (ipykernel)",
   "language": "python",
   "name": "python3"
  },
  "language_info": {
   "codemirror_mode": {
    "name": "ipython",
    "version": 3
   },
   "file_extension": ".py",
   "mimetype": "text/x-python",
   "name": "python",
   "nbconvert_exporter": "python",
   "pygments_lexer": "ipython3",
   "version": "3.9.10"
  }
 },
 "nbformat": 4,
 "nbformat_minor": 5
}
